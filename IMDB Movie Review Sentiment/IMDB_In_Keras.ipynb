{
 "cells": [
  {
   "cell_type": "markdown",
   "metadata": {},
   "source": [
    "# Analyzing IMDB Data in Keras"
   ]
  },
  {
   "cell_type": "code",
   "execution_count": 1,
   "metadata": {},
   "outputs": [
    {
     "name": "stderr",
     "output_type": "stream",
     "text": [
      "/Users/hamzabendemra/anaconda3/lib/python3.6/site-packages/h5py/__init__.py:36: FutureWarning: Conversion of the second argument of issubdtype from `float` to `np.floating` is deprecated. In future, it will be treated as `np.float64 == np.dtype(float).type`.\n",
      "  from ._conv import register_converters as _register_converters\n",
      "Using TensorFlow backend.\n"
     ]
    }
   ],
   "source": [
    "# Imports\n",
    "import numpy as np\n",
    "import keras\n",
    "from keras.datasets import imdb\n",
    "from keras.models import Sequential\n",
    "from keras.layers import Dense, Dropout, Activation\n",
    "from keras.preprocessing.text import Tokenizer\n",
    "import matplotlib.pyplot as plt\n",
    "%matplotlib inline\n",
    "\n",
    "np.random.seed(42)"
   ]
  },
  {
   "cell_type": "markdown",
   "metadata": {},
   "source": [
    "## 1. Loading the data\n",
    "This dataset comes preloaded with Keras, so one simple command will get us training and testing data. There is a parameter for how many words we want to look at. We've set it at 1000, but feel free to experiment."
   ]
  },
  {
   "cell_type": "code",
   "execution_count": 2,
   "metadata": {},
   "outputs": [
    {
     "name": "stdout",
     "output_type": "stream",
     "text": [
      "Downloading data from https://s3.amazonaws.com/text-datasets/imdb.npz\n",
      "17465344/17464789 [==============================] - 43s 2us/step\n",
      "(25000,)\n",
      "(25000,)\n"
     ]
    }
   ],
   "source": [
    "# Loading the data (it's preloaded in Keras)\n",
    "(x_train, y_train), (x_test, y_test) = imdb.load_data(num_words=1000)\n",
    "\n",
    "print(x_train.shape)\n",
    "print(x_test.shape)"
   ]
  },
  {
   "cell_type": "markdown",
   "metadata": {},
   "source": [
    "## 2. Examining the data\n",
    "Notice that the data has been already pre-processed, where all the words have numbers, and the reviews come in as a vector with the words that the review contains. For example, if the word 'the' is the first one in our dictionary, and a review contains the word 'the', then there is a 1 in the corresponding vector.\n",
    "\n",
    "The output comes as a vector of 1's and 0's, where 1 is a positive sentiment for the review, and 0 is negative."
   ]
  },
  {
   "cell_type": "code",
   "execution_count": 9,
   "metadata": {},
   "outputs": [
    {
     "name": "stdout",
     "output_type": "stream",
     "text": [
      "[1, 14, 22, 16, 43, 530, 973, 2, 2, 65, 458, 2, 66, 2, 4, 173, 36, 256, 5, 25, 100, 43, 838, 112, 50, 670, 2, 9, 35, 480, 284, 5, 150, 4, 172, 112, 167, 2, 336, 385, 39, 4, 172, 2, 2, 17, 546, 38, 13, 447, 4, 192, 50, 16, 6, 147, 2, 19, 14, 22, 4, 2, 2, 469, 4, 22, 71, 87, 12, 16, 43, 530, 38, 76, 15, 13, 2, 4, 22, 17, 515, 17, 12, 16, 626, 18, 2, 5, 62, 386, 12, 8, 316, 8, 106, 5, 4, 2, 2, 16, 480, 66, 2, 33, 4, 130, 12, 16, 38, 619, 5, 25, 124, 51, 36, 135, 48, 25, 2, 33, 6, 22, 12, 215, 28, 77, 52, 5, 14, 407, 16, 82, 2, 8, 4, 107, 117, 2, 15, 256, 4, 2, 7, 2, 5, 723, 36, 71, 43, 530, 476, 26, 400, 317, 46, 7, 4, 2, 2, 13, 104, 88, 4, 381, 15, 297, 98, 32, 2, 56, 26, 141, 6, 194, 2, 18, 4, 226, 22, 21, 134, 476, 26, 480, 5, 144, 30, 2, 18, 51, 36, 28, 224, 92, 25, 104, 4, 226, 65, 16, 38, 2, 88, 12, 16, 283, 5, 16, 2, 113, 103, 32, 15, 16, 2, 19, 178, 32]\n"
     ]
    }
   ],
   "source": [
    "print(x_train[0])"
   ]
  },
  {
   "cell_type": "code",
   "execution_count": 10,
   "metadata": {},
   "outputs": [
    {
     "name": "stdout",
     "output_type": "stream",
     "text": [
      "1\n"
     ]
    }
   ],
   "source": [
    "print(y_train[0])"
   ]
  },
  {
   "cell_type": "markdown",
   "metadata": {},
   "source": [
    "## 3. One-hot encoding the output\n",
    "Here, we'll turn the input vectors into (0,1)-vectors. For example, if the pre-processed vector contains the number 14, then in the processed vector, the 14th entry will be 1."
   ]
  },
  {
   "cell_type": "code",
   "execution_count": 11,
   "metadata": {},
   "outputs": [],
   "source": [
    "# One-hot encoding the output into vector mode, each of length 1000\n",
    "tokenizer = Tokenizer(num_words=1000)\n",
    "x_train = tokenizer.sequences_to_matrix(x_train, mode='binary')\n",
    "x_test = tokenizer.sequences_to_matrix(x_test, mode='binary')"
   ]
  },
  {
   "cell_type": "code",
   "execution_count": 13,
   "metadata": {},
   "outputs": [
    {
     "data": {
      "text/plain": [
       "(25000, 1000)"
      ]
     },
     "execution_count": 13,
     "metadata": {},
     "output_type": "execute_result"
    }
   ],
   "source": [
    "x_train.shape"
   ]
  },
  {
   "cell_type": "code",
   "execution_count": 12,
   "metadata": {},
   "outputs": [
    {
     "name": "stdout",
     "output_type": "stream",
     "text": [
      "[0. 1. 1. 0. 1. 1. 1. 1. 1. 1. 0. 0. 1. 1. 1. 1. 1. 1. 1. 1. 0. 1. 1. 0.\n",
      " 0. 1. 1. 0. 1. 0. 1. 0. 1. 1. 0. 1. 1. 0. 1. 1. 0. 0. 0. 1. 0. 0. 1. 0.\n",
      " 1. 0. 1. 1. 1. 0. 0. 0. 1. 0. 0. 0. 0. 0. 1. 0. 0. 1. 1. 0. 0. 0. 0. 1.\n",
      " 0. 0. 0. 0. 1. 1. 0. 0. 0. 0. 1. 0. 0. 0. 0. 1. 1. 0. 0. 0. 1. 0. 0. 0.\n",
      " 0. 0. 1. 0. 1. 0. 0. 1. 1. 0. 1. 1. 0. 0. 0. 0. 1. 1. 0. 0. 0. 1. 0. 0.\n",
      " 0. 0. 0. 0. 1. 0. 0. 0. 0. 0. 1. 0. 0. 0. 1. 1. 0. 0. 0. 0. 0. 1. 0. 0.\n",
      " 1. 0. 0. 1. 0. 0. 1. 0. 0. 0. 0. 0. 0. 0. 0. 0. 0. 0. 0. 0. 0. 0. 0. 1.\n",
      " 0. 0. 0. 0. 1. 1. 0. 0. 0. 0. 1. 0. 0. 0. 0. 0. 0. 0. 0. 0. 0. 0. 0. 0.\n",
      " 1. 0. 1. 0. 0. 0. 0. 0. 0. 0. 0. 0. 0. 0. 0. 0. 0. 0. 0. 0. 0. 0. 0. 1.\n",
      " 0. 0. 0. 0. 0. 0. 0. 0. 1. 0. 1. 0. 0. 0. 0. 0. 0. 0. 0. 0. 0. 0. 0. 0.\n",
      " 0. 0. 0. 0. 0. 0. 0. 0. 0. 0. 0. 0. 0. 0. 0. 0. 1. 0. 0. 0. 0. 0. 0. 0.\n",
      " 0. 0. 0. 0. 0. 0. 0. 0. 0. 0. 0. 0. 0. 0. 0. 0. 0. 0. 0. 1. 1. 0. 0. 0.\n",
      " 0. 0. 0. 0. 0. 0. 0. 0. 0. 1. 0. 0. 0. 0. 0. 0. 0. 0. 0. 0. 0. 0. 0. 0.\n",
      " 0. 0. 0. 0. 1. 1. 0. 0. 0. 0. 0. 0. 0. 0. 0. 0. 0. 0. 0. 0. 0. 0. 0. 0.\n",
      " 1. 0. 0. 0. 0. 0. 0. 0. 0. 0. 0. 0. 0. 0. 0. 0. 0. 0. 0. 0. 0. 0. 0. 0.\n",
      " 0. 0. 0. 0. 0. 0. 0. 0. 0. 0. 0. 0. 0. 0. 0. 0. 0. 0. 0. 0. 0. 1. 0. 0.\n",
      " 0. 1. 1. 0. 0. 0. 0. 0. 0. 0. 0. 0. 0. 0. 0. 0. 1. 0. 0. 0. 0. 0. 0. 1.\n",
      " 0. 0. 0. 0. 0. 0. 0. 0. 0. 0. 0. 0. 0. 0. 0. 0. 0. 0. 0. 0. 0. 0. 0. 0.\n",
      " 0. 0. 0. 0. 0. 0. 0. 0. 0. 0. 0. 0. 0. 0. 0. 1. 0. 0. 0. 0. 0. 0. 0. 0.\n",
      " 0. 0. 1. 0. 0. 0. 0. 0. 0. 0. 0. 0. 0. 1. 0. 0. 0. 0. 0. 0. 1. 0. 0. 0.\n",
      " 1. 0. 0. 0. 0. 0. 0. 0. 0. 0. 0. 0. 0. 0. 0. 0. 0. 0. 0. 0. 0. 0. 0. 0.\n",
      " 0. 0. 0. 0. 0. 0. 0. 0. 0. 0. 0. 1. 0. 0. 0. 0. 0. 0. 0. 0. 0. 0. 0. 0.\n",
      " 0. 0. 1. 0. 0. 0. 0. 0. 0. 0. 0. 0. 0. 0. 0. 0. 0. 0. 1. 0. 0. 0. 0. 0.\n",
      " 0. 0. 0. 0. 0. 0. 0. 0. 0. 0. 0. 0. 0. 0. 0. 0. 0. 0. 0. 0. 0. 0. 0. 0.\n",
      " 0. 0. 0. 0. 0. 0. 0. 0. 0. 0. 0. 0. 0. 0. 0. 0. 0. 0. 0. 0. 0. 0. 0. 0.\n",
      " 0. 0. 0. 0. 0. 0. 0. 0. 0. 0. 0. 0. 0. 0. 0. 0. 0. 0. 0. 1. 0. 0. 0. 0.\n",
      " 0. 0. 1. 0. 0. 0. 0. 0. 0. 0. 0. 0. 0. 0. 0. 0. 0. 0. 0. 0. 0. 0. 0. 0.\n",
      " 0. 0. 0. 0. 0. 0. 0. 0. 0. 0. 0. 0. 0. 0. 0. 0. 0. 0. 0. 0. 0. 0. 1. 0.\n",
      " 0. 0. 0. 0. 0. 0. 0. 0. 0. 0. 0. 0. 0. 0. 0. 0. 0. 0. 0. 0. 0. 0. 0. 0.\n",
      " 0. 0. 0. 0. 0. 0. 0. 0. 0. 0. 0. 0. 0. 0. 0. 0. 0. 0. 0. 0. 0. 0. 0. 0.\n",
      " 0. 0. 0. 1. 0. 0. 0. 0. 0. 0. 0. 0. 0. 0. 0. 0. 0. 0. 0. 0. 0. 0. 0. 0.\n",
      " 0. 0. 0. 0. 0. 0. 0. 0. 0. 0. 0. 0. 0. 0. 0. 0. 0. 0. 0. 0. 0. 0. 0. 0.\n",
      " 0. 0. 0. 0. 0. 0. 0. 0. 0. 0. 0. 0. 0. 0. 0. 0. 0. 0. 0. 0. 0. 0. 0. 0.\n",
      " 0. 0. 0. 0. 0. 0. 0. 0. 0. 0. 0. 0. 0. 0. 0. 0. 0. 0. 0. 0. 0. 0. 0. 0.\n",
      " 0. 0. 0. 0. 0. 0. 0. 0. 0. 0. 0. 0. 0. 0. 0. 0. 0. 0. 0. 0. 0. 0. 1. 0.\n",
      " 0. 0. 0. 0. 0. 0. 0. 0. 0. 0. 0. 0. 0. 0. 0. 0. 0. 0. 0. 0. 0. 0. 0. 0.\n",
      " 0. 0. 0. 0. 0. 0. 0. 0. 0. 0. 0. 0. 0. 0. 0. 0. 0. 0. 0. 0. 0. 0. 0. 0.\n",
      " 0. 0. 0. 0. 0. 0. 0. 0. 0. 0. 0. 0. 0. 0. 0. 0. 0. 0. 0. 0. 0. 0. 0. 0.\n",
      " 0. 0. 0. 0. 0. 0. 0. 0. 0. 0. 0. 0. 0. 0. 0. 0. 0. 0. 0. 0. 0. 0. 0. 0.\n",
      " 0. 0. 0. 0. 0. 0. 0. 0. 0. 0. 0. 0. 0. 0. 0. 0. 0. 0. 0. 0. 0. 0. 0. 0.\n",
      " 0. 0. 0. 0. 0. 0. 0. 0. 0. 0. 0. 0. 0. 1. 0. 0. 0. 0. 0. 0. 0. 0. 0. 0.\n",
      " 0. 0. 0. 0. 0. 0. 0. 0. 0. 0. 0. 0. 0. 0. 0. 0.]\n"
     ]
    }
   ],
   "source": [
    "print(x_train[0])"
   ]
  },
  {
   "cell_type": "markdown",
   "metadata": {},
   "source": [
    "And we'll also one-hot encode the output."
   ]
  },
  {
   "cell_type": "code",
   "execution_count": 15,
   "metadata": {},
   "outputs": [],
   "source": [
    "# One-hot encoding the output\n",
    "num_classes = 2\n",
    "y_train = keras.utils.to_categorical(y_train, num_classes)\n",
    "y_test = keras.utils.to_categorical(y_test, num_classes)"
   ]
  },
  {
   "cell_type": "code",
   "execution_count": 16,
   "metadata": {},
   "outputs": [
    {
     "name": "stdout",
     "output_type": "stream",
     "text": [
      "(25000, 2)\n"
     ]
    }
   ],
   "source": [
    "print(y_train.shape)"
   ]
  },
  {
   "cell_type": "code",
   "execution_count": 17,
   "metadata": {},
   "outputs": [
    {
     "name": "stdout",
     "output_type": "stream",
     "text": [
      "(25000, 2)\n"
     ]
    }
   ],
   "source": [
    "print(y_test.shape)"
   ]
  },
  {
   "cell_type": "markdown",
   "metadata": {},
   "source": [
    "## 4. Building the  model architecture\n",
    "Build a model here using sequential. Feel free to experiment with different layers and sizes! Also, experiment adding dropout to reduce overfitting."
   ]
  },
  {
   "cell_type": "code",
   "execution_count": 24,
   "metadata": {},
   "outputs": [
    {
     "data": {
      "text/plain": [
       "(25000, 1000)"
      ]
     },
     "execution_count": 24,
     "metadata": {},
     "output_type": "execute_result"
    }
   ],
   "source": [
    "x_train.shape"
   ]
  },
  {
   "cell_type": "code",
   "execution_count": 49,
   "metadata": {},
   "outputs": [
    {
     "name": "stdout",
     "output_type": "stream",
     "text": [
      "_________________________________________________________________\n",
      "Layer (type)                 Output Shape              Param #   \n",
      "=================================================================\n",
      "dense_21 (Dense)             (None, 512)               512512    \n",
      "_________________________________________________________________\n",
      "dropout_16 (Dropout)         (None, 512)               0         \n",
      "_________________________________________________________________\n",
      "dense_22 (Dense)             (None, 128)               65664     \n",
      "_________________________________________________________________\n",
      "dropout_17 (Dropout)         (None, 128)               0         \n",
      "_________________________________________________________________\n",
      "dense_23 (Dense)             (None, 32)                4128      \n",
      "_________________________________________________________________\n",
      "dropout_18 (Dropout)         (None, 32)                0         \n",
      "_________________________________________________________________\n",
      "dense_24 (Dense)             (None, 8)                 264       \n",
      "_________________________________________________________________\n",
      "dropout_19 (Dropout)         (None, 8)                 0         \n",
      "_________________________________________________________________\n",
      "dense_25 (Dense)             (None, 2)                 18        \n",
      "=================================================================\n",
      "Total params: 582,586\n",
      "Trainable params: 582,586\n",
      "Non-trainable params: 0\n",
      "_________________________________________________________________\n"
     ]
    }
   ],
   "source": [
    "# build the neural network model\n",
    "model = Sequential()\n",
    "model.add(Dense(512, activation='relu', input_dim=1000))\n",
    "model.add(Dropout(0.5))\n",
    "model.add(Dense(128, activation='relu'))\n",
    "model.add(Dropout(0.5))\n",
    "model.add(Dense(32, activation='relu'))\n",
    "model.add(Dropout(0.5))\n",
    "model.add(Dense(8, activation='relu'))\n",
    "model.add(Dropout(0.5))\n",
    "model.add(Dense(2, activation='softmax'))\n",
    "model.summary()"
   ]
  },
  {
   "cell_type": "code",
   "execution_count": 50,
   "metadata": {},
   "outputs": [],
   "source": [
    "# Compiling the model\n",
    "model.compile(loss='categorical_crossentropy',\n",
    "              optimizer='rmsprop',\n",
    "              metrics=['accuracy'])\n",
    "#model.summary()"
   ]
  },
  {
   "cell_type": "markdown",
   "metadata": {},
   "source": [
    "## 5. Training the model\n",
    "Run the model here. Experiment with different batch_size, and number of epochs!"
   ]
  },
  {
   "cell_type": "code",
   "execution_count": 51,
   "metadata": {},
   "outputs": [
    {
     "name": "stdout",
     "output_type": "stream",
     "text": [
      "Train on 25000 samples, validate on 25000 samples\n",
      "Epoch 1/50\n",
      " - 8s - loss: 0.5585 - acc: 0.7051 - val_loss: 0.3439 - val_acc: 0.8544\n",
      "Epoch 2/50\n",
      " - 7s - loss: 0.4435 - acc: 0.8230 - val_loss: 0.3485 - val_acc: 0.8542\n",
      "Epoch 3/50\n",
      " - 6s - loss: 0.4144 - acc: 0.8374 - val_loss: 0.3554 - val_acc: 0.8535\n",
      "Epoch 4/50\n",
      " - 6s - loss: 0.3990 - acc: 0.8453 - val_loss: 0.3446 - val_acc: 0.8552\n",
      "Epoch 5/50\n",
      " - 7s - loss: 0.3959 - acc: 0.8495 - val_loss: 0.3449 - val_acc: 0.8590\n",
      "Epoch 6/50\n",
      " - 7s - loss: 0.3820 - acc: 0.8556 - val_loss: 0.3450 - val_acc: 0.8606\n",
      "Epoch 7/50\n",
      " - 6s - loss: 0.3714 - acc: 0.8580 - val_loss: 0.3683 - val_acc: 0.8591\n",
      "Epoch 8/50\n",
      " - 6s - loss: 0.3669 - acc: 0.8639 - val_loss: 0.3762 - val_acc: 0.8528\n",
      "Epoch 9/50\n",
      " - 6s - loss: 0.3662 - acc: 0.8612 - val_loss: 0.3538 - val_acc: 0.8596\n",
      "Epoch 10/50\n",
      " - 6s - loss: 0.3561 - acc: 0.8662 - val_loss: 0.3750 - val_acc: 0.8572\n",
      "Epoch 11/50\n",
      " - 6s - loss: 0.3492 - acc: 0.8727 - val_loss: 0.3639 - val_acc: 0.8528\n",
      "Epoch 12/50\n",
      " - 6s - loss: 0.3492 - acc: 0.8746 - val_loss: 0.4066 - val_acc: 0.8540\n",
      "Epoch 13/50\n",
      " - 7s - loss: 0.3403 - acc: 0.8806 - val_loss: 0.4261 - val_acc: 0.8562\n",
      "Epoch 14/50\n",
      " - 7s - loss: 0.3334 - acc: 0.8821 - val_loss: 0.4888 - val_acc: 0.8547\n",
      "Epoch 15/50\n",
      " - 6s - loss: 0.3301 - acc: 0.8869 - val_loss: 0.4775 - val_acc: 0.8521\n",
      "Epoch 16/50\n",
      " - 6s - loss: 0.3275 - acc: 0.8895 - val_loss: 0.4725 - val_acc: 0.8561\n",
      "Epoch 17/50\n",
      " - 7s - loss: 0.3240 - acc: 0.8943 - val_loss: 0.4856 - val_acc: 0.8506\n",
      "Epoch 18/50\n",
      " - 6s - loss: 0.3144 - acc: 0.8980 - val_loss: 0.5468 - val_acc: 0.8521\n",
      "Epoch 19/50\n",
      " - 6s - loss: 0.3190 - acc: 0.9004 - val_loss: 0.5045 - val_acc: 0.8513\n",
      "Epoch 20/50\n",
      " - 6s - loss: 0.3076 - acc: 0.9023 - val_loss: 0.5350 - val_acc: 0.8528\n",
      "Epoch 21/50\n",
      " - 7s - loss: 0.3006 - acc: 0.9055 - val_loss: 0.5365 - val_acc: 0.8501\n",
      "Epoch 22/50\n",
      " - 6s - loss: 0.3018 - acc: 0.9077 - val_loss: 0.6445 - val_acc: 0.8499\n",
      "Epoch 23/50\n",
      " - 7s - loss: 0.3055 - acc: 0.9108 - val_loss: 0.6118 - val_acc: 0.8485\n",
      "Epoch 24/50\n",
      " - 6s - loss: 0.3080 - acc: 0.9107 - val_loss: 0.6963 - val_acc: 0.8487\n",
      "Epoch 25/50\n",
      " - 6s - loss: 0.2869 - acc: 0.9156 - val_loss: 0.6986 - val_acc: 0.8464\n",
      "Epoch 26/50\n",
      " - 6s - loss: 0.2873 - acc: 0.9184 - val_loss: 0.6374 - val_acc: 0.8464\n",
      "Epoch 27/50\n",
      " - 6s - loss: 0.2882 - acc: 0.9180 - val_loss: 0.6469 - val_acc: 0.8462\n",
      "Epoch 28/50\n",
      " - 6s - loss: 0.2740 - acc: 0.9203 - val_loss: 0.5731 - val_acc: 0.8471\n",
      "Epoch 29/50\n",
      " - 6s - loss: 0.2829 - acc: 0.9224 - val_loss: 0.6857 - val_acc: 0.8462\n",
      "Epoch 30/50\n",
      " - 6s - loss: 0.2781 - acc: 0.9247 - val_loss: 0.7156 - val_acc: 0.8468\n",
      "Epoch 31/50\n",
      " - 6s - loss: 0.2872 - acc: 0.9231 - val_loss: 0.7927 - val_acc: 0.8457\n",
      "Epoch 32/50\n",
      " - 6s - loss: 0.2688 - acc: 0.9244 - val_loss: 0.7408 - val_acc: 0.8461\n",
      "Epoch 33/50\n",
      " - 6s - loss: 0.2768 - acc: 0.9279 - val_loss: 0.6763 - val_acc: 0.8446\n",
      "Epoch 34/50\n",
      " - 6s - loss: 0.2826 - acc: 0.9268 - val_loss: 0.7889 - val_acc: 0.8469\n",
      "Epoch 35/50\n",
      " - 6s - loss: 0.2556 - acc: 0.9318 - val_loss: 0.8103 - val_acc: 0.8446\n",
      "Epoch 36/50\n",
      " - 6s - loss: 0.2637 - acc: 0.9316 - val_loss: 0.8050 - val_acc: 0.8427\n",
      "Epoch 37/50\n",
      " - 6s - loss: 0.2621 - acc: 0.9309 - val_loss: 0.8031 - val_acc: 0.8446\n",
      "Epoch 38/50\n",
      " - 6s - loss: 0.2694 - acc: 0.9276 - val_loss: 0.7944 - val_acc: 0.8423\n",
      "Epoch 39/50\n",
      " - 6s - loss: 0.2550 - acc: 0.9324 - val_loss: 0.8911 - val_acc: 0.8446\n",
      "Epoch 40/50\n",
      " - 6s - loss: 0.2688 - acc: 0.9308 - val_loss: 0.8509 - val_acc: 0.8433\n",
      "Epoch 41/50\n",
      " - 6s - loss: 0.2570 - acc: 0.9355 - val_loss: 0.9840 - val_acc: 0.8460\n",
      "Epoch 42/50\n",
      " - 6s - loss: 0.2682 - acc: 0.9354 - val_loss: 0.8727 - val_acc: 0.8446\n",
      "Epoch 43/50\n",
      " - 6s - loss: 0.2646 - acc: 0.9364 - val_loss: 0.9974 - val_acc: 0.8414\n",
      "Epoch 44/50\n",
      " - 6s - loss: 0.2667 - acc: 0.9369 - val_loss: 0.9832 - val_acc: 0.8434\n",
      "Epoch 45/50\n",
      " - 6s - loss: 0.2579 - acc: 0.9404 - val_loss: 1.1406 - val_acc: 0.8452\n",
      "Epoch 46/50\n",
      " - 6s - loss: 0.2624 - acc: 0.9372 - val_loss: 1.0811 - val_acc: 0.8441\n",
      "Epoch 47/50\n",
      " - 6s - loss: 0.2647 - acc: 0.9381 - val_loss: 1.0172 - val_acc: 0.8424\n",
      "Epoch 48/50\n",
      " - 6s - loss: 0.2725 - acc: 0.9386 - val_loss: 1.0664 - val_acc: 0.8428\n",
      "Epoch 49/50\n",
      " - 6s - loss: 0.2625 - acc: 0.9376 - val_loss: 1.0595 - val_acc: 0.8446\n",
      "Epoch 50/50\n",
      " - 6s - loss: 0.2690 - acc: 0.9399 - val_loss: 0.9845 - val_acc: 0.8424\n"
     ]
    }
   ],
   "source": [
    "# Training the model\n",
    "model.fit(x_train, \n",
    "          y_train, \n",
    "          epochs=50, \n",
    "          batch_size=50, \n",
    "          validation_data=(x_test, y_test),\n",
    "          verbose=2);"
   ]
  },
  {
   "cell_type": "markdown",
   "metadata": {},
   "source": [
    "## 6. Evaluating the model\n",
    "This will give you the accuracy of the model, as evaluated on the testing set. Can you get something over 85%?"
   ]
  },
  {
   "cell_type": "code",
   "execution_count": 52,
   "metadata": {},
   "outputs": [
    {
     "name": "stdout",
     "output_type": "stream",
     "text": [
      "Accuracy:  0.8424\n"
     ]
    }
   ],
   "source": [
    "score = model.evaluate(x_test, y_test, verbose=0)\n",
    "print(\"Accuracy: \", score[1])"
   ]
  },
  {
   "cell_type": "code",
   "execution_count": null,
   "metadata": {},
   "outputs": [],
   "source": []
  }
 ],
 "metadata": {
  "kernelspec": {
   "display_name": "Python 3",
   "language": "python",
   "name": "python3"
  },
  "language_info": {
   "codemirror_mode": {
    "name": "ipython",
    "version": 3
   },
   "file_extension": ".py",
   "mimetype": "text/x-python",
   "name": "python",
   "nbconvert_exporter": "python",
   "pygments_lexer": "ipython3",
   "version": "3.6.4"
  }
 },
 "nbformat": 4,
 "nbformat_minor": 2
}
